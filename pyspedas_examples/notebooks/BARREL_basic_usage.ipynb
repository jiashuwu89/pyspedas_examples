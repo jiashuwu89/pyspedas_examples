{
 "cells": [
  {
   "cell_type": "markdown",
   "metadata": {},
   "source": [
    "## BARREL PySPEADAS Basic Usage Guide\n",
    "\n",
    "This notebook will demonstrate how to download and view BARREL data using pySPEDAS. \n",
    "\n",
    "### Setup\n",
    "First, import the pyspedas library and some tplot functions."
   ]
  },
  {
   "cell_type": "code",
   "execution_count": null,
   "metadata": {},
   "outputs": [],
   "source": [
    "import pyspedas\n",
    "from pytplot import tplot, tplot_names, tlimit, tplot_options, options, store_data"
   ]
  },
  {
   "cell_type": "markdown",
   "metadata": {},
   "source": [
    "### Loading Data\n",
    "We will load data the data collected by BARREL flight `1D` from `January 17th and 18th, 2013`. To do this, use the pySPEDAS BARREL data loader to download the data from CDAWeb.\n",
    "\n",
    "Each type of BARREL data uses a different data loader function. The options are:\n",
    "- `sspc` - Slow Specta (256 channels accumulated over 32 seconds)\n",
    "- `mspc` - Medium Spectra (48 channels accumulated over 4 seconds)\n",
    "- `fspc` - Fast Spectra (4 channels record at 20Hz)\n",
    "- `magn` - Magnetometer Data\n",
    "- `ephm` - Ephemeris (GPS data and magnetic coordinates)\n",
    "- `hkpg` - Housekeeping (Voltages, currents, temperatures)\n",
    "- `rcnt` - Rate Counters (Scintillating statistics)\n",
    "\n",
    "For this example we will download the Fast Spectra data using it's loader function:"
   ]
  },
  {
   "cell_type": "code",
   "execution_count": null,
   "metadata": {},
   "outputs": [],
   "source": [
    "#Specify the data range. The end date is non-inclusive, so this will only download for the 17th and 18th.\n",
    "trange=['2013-01-17', '2013-01-19']\n",
    "\n",
    "pyspedas.barrel.fspc( #use the loader for a specific data type\n",
    "    trange=trange,\n",
    "    probe='1D' #specify the payload ID\n",
    ")"
   ]
  },
  {
   "attachments": {},
   "cell_type": "markdown",
   "metadata": {},
   "source": [
    "The data files `bar_1d_l2_fspc_20130117_v10.cdf` and `bar_1d_l2_fspc_20130118_v10.cdf` should have been downloaded to a sub folder called `./barrel_data`. Once those files have been downloaded, local files will be reused each time the loader is run.\n",
    "\n",
    "To see what data have been loaded, use the `tplot_names` function to list what is available."
   ]
  },
  {
   "cell_type": "code",
   "execution_count": null,
   "metadata": {},
   "outputs": [],
   "source": [
    "tplot_names()"
   ]
  },
  {
   "attachments": {},
   "cell_type": "markdown",
   "metadata": {},
   "source": [
    "Loading data from another flight adds more tplot variables"
   ]
  },
  {
   "cell_type": "code",
   "execution_count": null,
   "metadata": {},
   "outputs": [],
   "source": [
    "pyspedas.barrel.fspc( #use the loader for a specific data type\n",
    "    trange=trange, #specify the time range\n",
    "    probe='1G' #specify the payload ID\n",
    ")\n",
    "tplot_names()"
   ]
  },
  {
   "attachments": {},
   "cell_type": "markdown",
   "metadata": {},
   "source": [
    "## Plot the data"
   ]
  },
  {
   "attachments": {},
   "cell_type": "markdown",
   "metadata": {},
   "source": [
    "Data can be plotted by passing the name of a tplot variable to the `tplot` function."
   ]
  },
  {
   "cell_type": "code",
   "execution_count": null,
   "metadata": {},
   "outputs": [],
   "source": [
    "tplot('brl1D_FSPC1')"
   ]
  },
  {
   "attachments": {},
   "cell_type": "markdown",
   "metadata": {},
   "source": [
    "Passing a list of tplot names will create stacked plots"
   ]
  },
  {
   "cell_type": "code",
   "execution_count": null,
   "metadata": {},
   "outputs": [],
   "source": [
    "tplot(['brl1D_FSPC1', 'brl1G_FSPC1'])"
   ]
  },
  {
   "attachments": {},
   "cell_type": "markdown",
   "metadata": {},
   "source": [
    "## Adjust the plots"
   ]
  },
  {
   "attachments": {},
   "cell_type": "markdown",
   "metadata": {},
   "source": [
    "By default, the entire range of available data is plotted. We can zoom in to a take a closer look using the `tlimit` function."
   ]
  },
  {
   "cell_type": "code",
   "execution_count": null,
   "metadata": {},
   "outputs": [],
   "source": [
    "tlimit(['2013-01-18/12:00', '2013-01-18/18:00'])\n",
    "tplot(['brl1G_FSPC1', 'brl1G_FSPC2', 'brl1G_FSPC3', 'brl1G_FSPC4'])"
   ]
  },
  {
   "cell_type": "markdown",
   "metadata": {},
   "source": [
    "Next, we can add colors, titles, labels, etc using the `ptplot.options` and `pytplot.tplot_options` functions. A full list of options are availible here:\n",
    "- [pytplot.tplot_options](https://pytplot.readthedocs.io/en/latest/tplot_options.html)\n",
    "- [pytplot.options](https://pytplot.readthedocs.io/en/latest/options.html)"
   ]
  },
  {
   "cell_type": "code",
   "execution_count": null,
   "metadata": {},
   "outputs": [],
   "source": [
    "tplot_options(\"title\", \"1D and 1G Low Energy Fast Spectra Jan 18, 2013\")\n",
    "options(\"brl1D_FSPC1\", \"Color\", \"red\")\n",
    "options(\"brl1G_FSPC1\", \"Color\", \"blue\")\n",
    "tplot([\"brl1D_FSPC1\", \"brl1G_FSPC1\"])"
   ]
  },
  {
   "cell_type": "markdown",
   "metadata": {},
   "source": [
    "NOTE: Options that are set will stay set for future plots. So remember to change plot titles when you change variables."
   ]
  },
  {
   "cell_type": "markdown",
   "metadata": {},
   "source": [
    "## Creating Psedovariables\n",
    "\n",
    "Using the `pytplot.store_data` function, we can group of variables together. This is useful if we want to group more than one variable togethr in a single plot."
   ]
  },
  {
   "cell_type": "code",
   "execution_count": null,
   "metadata": {},
   "outputs": [],
   "source": [
    "pyspedas.barrel.magn(probe=\"1d\", trange=trange)\n",
    "tplot_names()\n",
    "store_data(\"brl1D_MAG_XYZ\", data=['brl1D_MAG_X_uncalibrated', 'brl1D_MAG_Y_uncalibrated', 'brl1D_MAG_Z_uncalibrated'])\n",
    "tplot_options(\"title\", \"1D Magnetomoeter\")\n",
    "tplot(\"brl1D_MAG_XYZ\")"
   ]
  }
 ],
 "metadata": {
  "kernelspec": {
   "display_name": ".venv",
   "language": "python",
   "name": "python3"
  },
  "language_info": {
   "codemirror_mode": {
    "name": "ipython",
    "version": 3
   },
   "file_extension": ".py",
   "mimetype": "text/x-python",
   "name": "python",
   "nbconvert_exporter": "python",
   "pygments_lexer": "ipython3",
   "version": "3.11.3"
  },
  "orig_nbformat": 4
 },
 "nbformat": 4,
 "nbformat_minor": 2
}
