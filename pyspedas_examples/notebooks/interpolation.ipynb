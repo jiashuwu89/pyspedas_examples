{
 "cells": [
  {
   "cell_type": "code",
   "metadata": {
    "ExecuteTime": {
     "end_time": "2024-07-20T19:16:00.760130Z",
     "start_time": "2024-07-20T19:16:00.757869Z"
    }
   },
   "source": "#%pip install pyspedas==1.5",
   "outputs": [],
   "execution_count": 1
  },
  {
   "cell_type": "code",
   "metadata": {
    "ExecuteTime": {
     "end_time": "2024-07-20T19:16:09.773392Z",
     "start_time": "2024-07-20T19:16:03.449167Z"
    }
   },
   "source": [
    "import pyspedas\n",
    "import pytplot\n",
    "import numpy as np\n",
    "import pandas as pd"
   ],
   "outputs": [],
   "execution_count": 2
  },
  {
   "cell_type": "code",
   "metadata": {
    "ExecuteTime": {
     "end_time": "2024-07-20T19:16:16.232584Z",
     "start_time": "2024-07-20T19:16:16.226079Z"
    }
   },
   "source": [
    "def print_data(x, y, x_interp, y_interp):\n",
    "    if np.ndim(y) == 1:\n",
    "        columns = ['y']\n",
    "    else:\n",
    "        columns = ['y'+str(i) for i in range(np.shape(y)[1] )]\n",
    "\n",
    "    # Combine x and y\n",
    "    df_x_y = pd.DataFrame(y, columns=columns)\n",
    "    df_x_y.insert(0, 'x', x)\n",
    "\n",
    "    for col in columns:\n",
    "        df_x_y[col] = df_x_y[col].apply(lambda val: 'ORIGINAL_NAN' if pd.isna(val) else val)\n",
    "\n",
    "    # Combine x_interp and y_interp\n",
    "    df_x_y_interp = pd.DataFrame(y_interp, columns=columns)\n",
    "    df_x_y_interp.insert(0, 'x_interp', x_interp)\n",
    "    \n",
    "    for col in columns:\n",
    "        df_x_y_interp[col] = df_x_y_interp[col].apply(lambda val: 'ORIGINAL_NAN' if pd.isna(val) else val)    \n",
    "\n",
    "    df_x_y = df_x_y.set_index('x')\n",
    "    df_x_y_interp = df_x_y_interp.set_index('x_interp')\n",
    "\n",
    "    # Merge DataFrames\n",
    "    combined_df = pd.merge(df_x_y, df_x_y_interp, left_index=True, right_index=True, how='outer', suffixes=['_orig','_itrp'])\n",
    "    \n",
    "    # Replace NaN with blank spaces\n",
    "    combined_df = combined_df.replace(np.nan, '')\n",
    "    combined_df = combined_df.replace('ORIGINAL_NAN', np.nan)\n",
    "\n",
    "    print(combined_df)"
   ],
   "outputs": [],
   "execution_count": 3
  },
  {
   "cell_type": "markdown",
   "metadata": {},
   "source": [
    "## 1. interpol\n",
    "    Location: pyspedas.utilities.tinterpol\n",
    "    Inner Func: scipy.interpolate.interp1d\n",
    "    Input: scalar-valued array\n",
    "    Usage:  pyspedas.interpol(data: List[float], data_times: List[float], out_times: List[float])\n",
    "    Optional Parameters:\n",
    "        - fill_value: str\n",
    "            default 'extrapolate'"
   ]
  },
  {
   "cell_type": "markdown",
   "metadata": {},
   "source": [
    "### 1.1 extrapolate after and before input data"
   ]
  },
  {
   "cell_type": "code",
   "metadata": {
    "ExecuteTime": {
     "end_time": "2024-07-20T19:16:51.726419Z",
     "start_time": "2024-07-20T19:16:51.713714Z"
    }
   },
   "source": [
    "# clean old data\n",
    "%reset_selective -f \"^(?!print_data$|np$|pd$|pyspedas$|pytplot$).*\"\n",
    "\n",
    "# prepare data\n",
    "x1 = [4, 8, 12, 16, 20, 24]\n",
    "time1 = [pytplot.time_float(\"2020-01-01\") + i for i in x1]\n",
    "x2=[0, 2, 4, 6, 8, 10, 12, 14, 16, 18, 20, 22, 24, 26, 28]\n",
    "time2 = [pytplot.time_float(\"2020-01-01\") + i for i in x2]\n",
    "y1=[10, 20, 30, 40, 50, 60]\n",
    "\n",
    "# interpolate\n",
    "y_interp = pyspedas.interpol(y1, time1, time2)  #set default fill_value ('extrapolate')\n",
    "print_data(x1, y1, x2, y_interp)\n"
   ],
   "outputs": [
    {
     "name": "stdout",
     "output_type": "stream",
     "text": [
      "   y_orig  y_itrp\n",
      "0             0.0\n",
      "2             5.0\n",
      "4    10.0    10.0\n",
      "6            15.0\n",
      "8    20.0    20.0\n",
      "10           25.0\n",
      "12   30.0    30.0\n",
      "14           35.0\n",
      "16   40.0    40.0\n",
      "18           45.0\n",
      "20   50.0    50.0\n",
      "22           55.0\n",
      "24   60.0    60.0\n",
      "26           65.0\n",
      "28           70.0\n"
     ]
    }
   ],
   "execution_count": 4
  },
  {
   "cell_type": "code",
   "metadata": {
    "ExecuteTime": {
     "end_time": "2024-07-20T19:17:04.194380Z",
     "start_time": "2024-07-20T19:17:04.186001Z"
    }
   },
   "source": [
    "# clean old data\n",
    "%reset_selective -f \"^(?!print_data$|np$|pd$|pyspedas$|pytplot$).*\"\n",
    "\n",
    "#prepare data\n",
    "x1 = [4, 8, 12, 16, 20, 24]\n",
    "time1 = [pytplot.time_float(\"2020-01-01\") + i for i in x1]\n",
    "x2=[0, 2, 4, 6, 8, 10, 12, 14, 16, 18, 20, 22, 24, 26, 28]\n",
    "y1=[10, 20, 30, 40, 50, 60]\n",
    "time2 = [pytplot.time_float(\"2020-01-01\") + i for i in x2]\n",
    "\n",
    "# interpolate\n",
    "y_interp = pyspedas.interpol(y1, time1, time2, fill_value='nan')  #set fill_value, add nan when extrapolating\n",
    "print_data(x1, y1, x2, y_interp)"
   ],
   "outputs": [
    {
     "name": "stdout",
     "output_type": "stream",
     "text": [
      "   y_orig  y_itrp\n",
      "0             NaN\n",
      "2             NaN\n",
      "4    10.0    10.0\n",
      "6            15.0\n",
      "8    20.0    20.0\n",
      "10           25.0\n",
      "12   30.0    30.0\n",
      "14           35.0\n",
      "16   40.0    40.0\n",
      "18           45.0\n",
      "20   50.0    50.0\n",
      "22           55.0\n",
      "24   60.0    60.0\n",
      "26            NaN\n",
      "28            NaN\n"
     ]
    }
   ],
   "execution_count": 5
  },
  {
   "cell_type": "markdown",
   "metadata": {},
   "source": [
    "### 1.2 interpolate data with nan in the middle"
   ]
  },
  {
   "cell_type": "code",
   "metadata": {
    "ExecuteTime": {
     "end_time": "2024-07-20T19:17:07.751177Z",
     "start_time": "2024-07-20T19:17:07.741861Z"
    }
   },
   "source": [
    "# clean old data\n",
    "%reset_selective -f \"^(?!print_data$|np$|pd$|pyspedas$|pytplot$).*\"\n",
    "\n",
    "# prepare data\n",
    "x1 = [4, 8, 12, 16, 20, 24]\n",
    "time1 = [pytplot.time_float(\"2020-01-01\") + i for i in x1]\n",
    "x2=[0, 2, 4, 6, 8, 10, 12, 14, 16, 18, 20, 22, 24, 26, 28]\n",
    "time2 = [pytplot.time_float(\"2020-01-01\") + i for i in x2]\n",
    "y2=[10, 20, np.nan, np.nan, 50, 60]\n",
    "\n",
    "# interpolate\n",
    "y_interp = pyspedas.interpol(y2, time1, time2)\n",
    "print_data(x1, y2, x2, y_interp)"
   ],
   "outputs": [
    {
     "name": "stdout",
     "output_type": "stream",
     "text": [
      "   y_orig  y_itrp\n",
      "0             0.0\n",
      "2             5.0\n",
      "4    10.0    10.0\n",
      "6            15.0\n",
      "8    20.0    20.0\n",
      "10            NaN\n",
      "12    NaN     NaN\n",
      "14            NaN\n",
      "16    NaN     NaN\n",
      "18            NaN\n",
      "20   50.0     NaN\n",
      "22           55.0\n",
      "24   60.0    60.0\n",
      "26           65.0\n",
      "28           70.0\n"
     ]
    }
   ],
   "execution_count": 6
  },
  {
   "cell_type": "markdown",
   "metadata": {},
   "source": [
    "❗note that 50 is not showing in the interpolation result"
   ]
  },
  {
   "cell_type": "code",
   "metadata": {
    "ExecuteTime": {
     "end_time": "2024-07-20T19:17:33.947650Z",
     "start_time": "2024-07-20T19:17:33.939407Z"
    }
   },
   "source": [
    "# clean old data\n",
    "%reset_selective -f \"^(?!print_data$|np$|pd$|pyspedas$|pytplot$).*\"\n",
    "\n",
    "# prepare data\n",
    "x1 = [4, 8, 12, 16, 20, 24]\n",
    "time1 = [pytplot.time_float(\"2020-01-01\") + i for i in x1]\n",
    "x2=[0, 2, 4, 6, 8, 10, 12, 14, 16, 18, 20, 22, 24, 26, 28]\n",
    "time2 = [pytplot.time_float(\"2020-01-01\") + i for i in x2]\n",
    "y2=[10, 20, np.nan, np.nan, 50, 60]\n",
    "\n",
    "# interpolate\n",
    "y_interp = pyspedas.interpol(y2, time1, time2, fill_value='nan')\n",
    "print_data(x1, y2, x2, y_interp)"
   ],
   "outputs": [
    {
     "name": "stdout",
     "output_type": "stream",
     "text": [
      "   y_orig  y_itrp\n",
      "0             NaN\n",
      "2             NaN\n",
      "4    10.0    10.0\n",
      "6            15.0\n",
      "8    20.0    20.0\n",
      "10            NaN\n",
      "12    NaN     NaN\n",
      "14            NaN\n",
      "16    NaN     NaN\n",
      "18            NaN\n",
      "20   50.0    50.0\n",
      "22           55.0\n",
      "24   60.0    60.0\n",
      "26            NaN\n",
      "28            NaN\n"
     ]
    }
   ],
   "execution_count": 7
  },
  {
   "cell_type": "markdown",
   "metadata": {},
   "source": [
    "## 2. tinterpol\n",
    "    Location: pyspedas.analysis.tinterpol\n",
    "    Input: tplot variables\n",
    "    Inner Func: xarray.DataArray.interp\n",
    "    Usage: pyspedas.tinterpol(names: str | List[str], interp_to: str | List[str])\n",
    "    Optional Parameters: \n",
    "        - method: str\n",
    "            Default is Linear. Options: 'linear', 'nearest', 'zero', 'slinear', 'quadratic', 'cubic', 'previous', 'next'\n",
    "        - newname: str | List[str]\n",
    "            Default is ''\n",
    "        - suffix: str\n",
    "            Default is '-itrp'"
   ]
  },
  {
   "cell_type": "markdown",
   "metadata": {},
   "source": [
    "create tplot variables"
   ]
  },
  {
   "cell_type": "markdown",
   "metadata": {},
   "source": [
    "### 2.1 extrapolate data before and after input date"
   ]
  },
  {
   "cell_type": "code",
   "metadata": {
    "ExecuteTime": {
     "end_time": "2024-07-20T19:18:08.311623Z",
     "start_time": "2024-07-20T19:18:08.291462Z"
    }
   },
   "source": [
    "# clean old data\n",
    "%reset_selective -f \"^(?!print_data$|np$|pd$|pyspedas$|pytplot$).*\"\n",
    "\n",
    "# prepare date\n",
    "x1 = [4, 8, 12, 16, 20, 24]\n",
    "time1 = [pytplot.time_float(\"2020-01-01\") + i for i in x1]\n",
    "x2=[0, 2, 4, 6, 8, 10, 12, 14, 16, 18, 20, 22, 24, 26, 28]\n",
    "time2 = [pytplot.time_float(\"2020-01-01\") + i for i in x2]\n",
    "y1=[10, 20, 30, 40, 50, 60]\n",
    "pytplot.store_data('x1', data={'x': time1, 'y': y1})\n",
    "pytplot.store_data('x2', data={'x': time2, 'y': np.zeros_like(time2)})  # y will be ignored\n",
    "\n",
    "# interpolate\n",
    "pyspedas.tinterpol(names='x1', interp_to = 'x2', newname='x1_interp')\n",
    "x1_interp = pytplot.get_data('x1_interp')\n",
    "print_data(x1, y1, x2, x1_interp.y)"
   ],
   "outputs": [
    {
     "name": "stderr",
     "output_type": "stream",
     "text": [
      "20-Jul-24 12:18:08: tinterpol (linear) was applied to: x1_interp\n"
     ]
    },
    {
     "name": "stdout",
     "output_type": "stream",
     "text": [
      "   y_orig  y_itrp\n",
      "0             NaN\n",
      "2             NaN\n",
      "4    10.0    10.0\n",
      "6            15.0\n",
      "8    20.0    20.0\n",
      "10           25.0\n",
      "12   30.0    30.0\n",
      "14           35.0\n",
      "16   40.0    40.0\n",
      "18           45.0\n",
      "20   50.0    50.0\n",
      "22           55.0\n",
      "24   60.0    60.0\n",
      "26            NaN\n",
      "28            NaN\n"
     ]
    }
   ],
   "execution_count": 8
  },
  {
   "cell_type": "markdown",
   "metadata": {},
   "source": [
    "### 2.2 interpolate data with nan in the middle"
   ]
  },
  {
   "cell_type": "code",
   "metadata": {
    "ExecuteTime": {
     "end_time": "2024-07-20T19:18:40.422647Z",
     "start_time": "2024-07-20T19:18:40.404636Z"
    }
   },
   "source": [
    "# clean old data\n",
    "%reset_selective -f \"^(?!print_data$|np$|pd$|pyspedas$|pytplot$).*\"\n",
    "\n",
    "# prepare data\n",
    "x1 = [4, 8, 12, 16, 20, 24]\n",
    "time1 = [pytplot.time_float(\"2020-01-01\") + i for i in x1]\n",
    "x2=[0, 2, 4, 6, 8, 10, 12, 14, 16, 18, 20, 22, 24, 26, 28]\n",
    "time2 = [pytplot.time_float(\"2020-01-01\") + i for i in x2]\n",
    "y2=[10, 20, np.nan, np.nan, 50, 60]\n",
    "pytplot.store_data('x1_nan', data={'x': time1, 'y': y2})\n",
    "pytplot.store_data('x2', data={'x': time2, 'y': np.zeros_like(time2)})  # y will be ignored\n",
    "\n",
    "# interpolate\n",
    "pyspedas.tinterpol(names='x1_nan', interp_to = 'x2', newname='x1_nan_interp')\n",
    "x1_interp = pytplot.get_data('x1_nan_interp')\n",
    "print_data(x1, y2, x2, x1_interp.y)"
   ],
   "outputs": [
    {
     "name": "stderr",
     "output_type": "stream",
     "text": [
      "20-Jul-24 12:18:40: tinterpol (linear) was applied to: x1_nan_interp\n"
     ]
    },
    {
     "name": "stdout",
     "output_type": "stream",
     "text": [
      "   y_orig  y_itrp\n",
      "0             NaN\n",
      "2             NaN\n",
      "4    10.0    10.0\n",
      "6            15.0\n",
      "8    20.0    20.0\n",
      "10            NaN\n",
      "12    NaN     NaN\n",
      "14            NaN\n",
      "16    NaN     NaN\n",
      "18            NaN\n",
      "20   50.0    50.0\n",
      "22           55.0\n",
      "24   60.0    60.0\n",
      "26            NaN\n",
      "28            NaN\n"
     ]
    }
   ],
   "execution_count": 9
  },
  {
   "cell_type": "markdown",
   "metadata": {},
   "source": [
    "### 2.3 higher dimension of input data"
   ]
  },
  {
   "cell_type": "code",
   "metadata": {
    "ExecuteTime": {
     "end_time": "2024-07-20T19:18:45.492155Z",
     "start_time": "2024-07-20T19:18:45.478165Z"
    }
   },
   "source": [
    "# clean old data\n",
    "%reset_selective -f \"^(?!print_data$|np$|pd$|pyspedas$|pytplot$).*\"\n",
    "\n",
    "# prepare data\n",
    "x1 = [4, 8, 12, 16, 20, 24]\n",
    "time1 = [pytplot.time_float(\"2020-01-01\") + i for i in x1]\n",
    "x2=[0, 2, 4, 6, 8, 10, 12, 14, 16, 18, 20, 22, 24, 26, 28]\n",
    "time2 = [pytplot.time_float(\"2020-01-01\") + i for i in x2]\n",
    "y3 = [[np.nan,1,1],[np.nan,2,3],[4,np.nan,47],[4,np.nan,5],[5,5,99],[7,np.nan,np.nan]]\n",
    "\n",
    "# interpolate\n",
    "pytplot.store_data('x1_multi', data={'x':time1, 'y': y3})\n",
    "pyspedas.tinterpol(names='x1_multi', interp_to = 'x2', newname='x1_mult_interp')\n",
    "x1_interp = pytplot.get_data('x1_mult_interp')\n",
    "print_data(x1, y3, x2, x1_interp.y)\n"
   ],
   "outputs": [
    {
     "name": "stderr",
     "output_type": "stream",
     "text": [
      "20-Jul-24 12:18:45: tinterpol (linear) was applied to: x1_mult_interp\n"
     ]
    },
    {
     "name": "stdout",
     "output_type": "stream",
     "text": [
      "   y0_orig y1_orig y2_orig  y0_itrp  y1_itrp  y2_itrp\n",
      "0                               NaN      NaN      NaN\n",
      "2                               NaN      NaN      NaN\n",
      "4      NaN     1.0     1.0      NaN      1.0      1.0\n",
      "6                               NaN      1.5      2.0\n",
      "8      NaN     2.0     3.0      NaN      2.0      3.0\n",
      "10                              NaN      NaN     25.0\n",
      "12     4.0     NaN    47.0      NaN      NaN     47.0\n",
      "14                              4.0      NaN     26.0\n",
      "16     4.0     NaN     5.0      4.0      NaN      5.0\n",
      "18                              4.5      NaN     52.0\n",
      "20     5.0     5.0    99.0      5.0      NaN     99.0\n",
      "22                              6.0      NaN      NaN\n",
      "24     7.0     NaN     NaN      7.0      NaN      NaN\n",
      "26                              NaN      NaN      NaN\n",
      "28                              NaN      NaN      NaN\n"
     ]
    }
   ],
   "execution_count": 10
  },
  {
   "cell_type": "markdown",
   "metadata": {},
   "source": [
    "❗note that x=12, y=4.0 should be shown in y0_itrp  \n",
    "❗note that x=20, y=5.0 should be shown in y1_itrp"
   ]
  },
  {
   "cell_type": "markdown",
   "metadata": {},
   "source": [
    "### 2.4 multiple inputs"
   ]
  },
  {
   "cell_type": "code",
   "execution_count": 19,
   "metadata": {},
   "outputs": [
    {
     "name": "stderr",
     "output_type": "stream",
     "text": [
      "25-Jun-24 11:21:45: tinterpol (linear) was applied to: x1_interp\n",
      "25-Jun-24 11:21:45: tinterpol (linear) was applied to: x1_multi_interp\n"
     ]
    }
   ],
   "source": [
    "pyspedas.tinterpol(names=['x1','x1_multi'], interp_to = 'x2', newname=['x1_interp','x1_multi_interp'])"
   ]
  },
  {
   "cell_type": "markdown",
   "metadata": {},
   "source": [
    "## 3. interp_nan\n",
    "    Location: pytplot.tplot_math.interp_nan\n",
    "    Input: tplot variables\n",
    "    Inner Func: xarray.DataArray.interpolate_na\n",
    "    Usage: pytplot.interp_nan(tvar: str)\n",
    "    Optional Parameters: \n",
    "        - s_limit: int | float, the maximum size of the gap in seconds to not interpolate over\n",
    "        - newname: str, name of new tvar for added data. If not set, then the original tvar is replaced.\n"
   ]
  },
  {
   "cell_type": "markdown",
   "metadata": {},
   "source": [
    "### 3.1 interp nan for 1d data"
   ]
  },
  {
   "cell_type": "code",
   "execution_count": 20,
   "metadata": {},
   "outputs": [
    {
     "name": "stdout",
     "output_type": "stream",
     "text": [
      "    y_orig  y_itrp\n",
      "x                 \n",
      "4      NaN     NaN\n",
      "8     20.0    20.0\n",
      "12     NaN    30.0\n",
      "16     NaN    40.0\n",
      "20     NaN     NaN\n",
      "24    60.0    60.0\n",
      "28     NaN     NaN\n"
     ]
    }
   ],
   "source": [
    "# clean old data\n",
    "%reset_selective -f \"^(?!print_data$|np$|pd$|pyspedas$|pytplot$).*\"\n",
    "\n",
    "# prepare data\n",
    "x1 = [4, 8, 12, 16, 20, 24, 28]\n",
    "time1 = [pytplot.time_float(\"2020-01-01\") + i for i in x1]\n",
    "y2=[np.nan, 20, np.nan, np.nan, np.nan, 60, np.nan]\n",
    "pytplot.store_data('x1_nan', data={'x': time1, 'y': y2})\n",
    "\n",
    "# interpolate\n",
    "pytplot.interp_nan('x1_nan', newname='x1_naninterp', s_limit=2)\n",
    "x1_interp = pytplot.get_data('x1_naninterp')\n",
    "print_data(x1, y2, x1, x1_interp.y)"
   ]
  },
  {
   "cell_type": "markdown",
   "metadata": {},
   "source": [
    "❗note only two Nan is interpolated because s_limit=2"
   ]
  },
  {
   "cell_type": "markdown",
   "metadata": {},
   "source": [
    "### 3.2 interp nan for multi-dimen data"
   ]
  },
  {
   "cell_type": "code",
   "execution_count": 21,
   "metadata": {},
   "outputs": [
    {
     "name": "stdout",
     "output_type": "stream",
     "text": [
      "    y0_orig  y1_orig  y2_orig  y0_itrp  y1_itrp  y2_itrp\n",
      "x                                                       \n",
      "4       NaN      1.0      1.0      NaN      1.0      1.0\n",
      "8       NaN      2.0      3.0      NaN      2.0      3.0\n",
      "12      4.0      NaN      NaN      4.0      3.0     35.0\n",
      "16      4.0      NaN      NaN      4.0      4.0     67.0\n",
      "20      5.0      NaN     99.0      5.0      NaN     99.0\n",
      "24      7.0      6.0      NaN      7.0      6.0      NaN\n"
     ]
    }
   ],
   "source": [
    "# clean old data\n",
    "%reset_selective -f \"^(?!print_data$|np$|pd$|pyspedas$|pytplot$).*\"\n",
    "\n",
    "# prepare data\n",
    "x1 = [4, 8, 12, 16, 20, 24]\n",
    "time1 = [pytplot.time_float(\"2020-01-01\") + i for i in x1]\n",
    "y3 = [[np.nan,1,1],[np.nan,2,3],[4,np.nan,np.nan],[4,np.nan,np.nan],[5,np.nan,99],[7,6,np.nan]]\n",
    "pytplot.store_data('x1_multi', data={'x':time1, 'y': y3})\n",
    "\n",
    "# interpolate\n",
    "pyspedas.interp_nan('x1_multi', newname='x1_multinterp', s_limit=2)\n",
    "x1_interp = pytplot.get_data('x1_multinterp')\n",
    "print_data(x1, y3, x1, x1_interp.y)"
   ]
  },
  {
   "cell_type": "markdown",
   "metadata": {},
   "source": [
    "## 4. tinterp\n",
    "    Location: pytplot.tplot_math.tinterp \n",
    "    Input: tplot variables  \n",
    "    Inner Func: xarray.DataArray.interp_like   \n",
    "    Usage: pytplot.tinterp(tvar1: str, tvar2: str) # interp tvar1 according to the time of tvar2\n",
    "    Optional Parameters: \n",
    "        - replace: bool, If true, the data in the original tplot variable is replaced.  Otherwise, a variable is created."
   ]
  },
  {
   "cell_type": "code",
   "execution_count": 22,
   "metadata": {},
   "outputs": [
    {
     "name": "stdout",
     "output_type": "stream",
     "text": [
      "[1. 4. 1. 7. 1.]\n"
     ]
    }
   ],
   "source": [
    "pytplot.store_data('a', data={'x':[0,4,8,12,16], 'y':[1,2,3,4,5]})\n",
    "pytplot.store_data('c', data={'x':[0,4,8,12,16,19,21], 'y':[1,4,1,7,1,9,1]})\n",
    "pytplot.tinterp('a','c')\n",
    "print(pytplot.data_quants['a_tinterp'].data)"
   ]
  },
  {
   "cell_type": "markdown",
   "metadata": {},
   "source": [
    "❗note that the example in the docstring in tinterp.py needs modification  \n",
    ">>> pytplot.store_data('a', data={'x':[0,4,8,12,16], 'y':[1,2,3,4,5]})  \n",
    ">>> pytplot.store_data('c', data={'x':[0,4,8,12,16,19,21], 'y':[1,4,1,7,1,9,1]})  \n",
    ">>> pytplot.tinterp('a','c')  \n",
    ">>> print(pytplot.data_quants['c_interp'].data)  "
   ]
  },
  {
   "cell_type": "markdown",
   "metadata": {},
   "source": [
    "### 4.1 extrapolate data before and after input date"
   ]
  },
  {
   "cell_type": "code",
   "execution_count": 23,
   "metadata": {},
   "outputs": [
    {
     "name": "stderr",
     "output_type": "stream",
     "text": [
      "25-Jun-24 11:21:46: tinterpol (linear) was applied to: x1-itrp\n"
     ]
    },
    {
     "name": "stdout",
     "output_type": "stream",
     "text": [
      "   y_orig  y_itrp\n",
      "0             NaN\n",
      "2             NaN\n",
      "4    10.0    10.0\n",
      "6            15.0\n",
      "8    20.0    20.0\n",
      "10           25.0\n",
      "12   30.0    30.0\n",
      "14           35.0\n",
      "16   40.0    40.0\n",
      "18           45.0\n",
      "20   50.0    50.0\n",
      "22           55.0\n",
      "24   60.0    60.0\n",
      "26            NaN\n",
      "28            NaN\n"
     ]
    }
   ],
   "source": [
    "# clean old data\n",
    "%reset_selective -f \"^(?!print_data$|np$|pd$|pyspedas$|pytplot$).*\"\n",
    "\n",
    "# prepare data\n",
    "x1 = [4, 8, 12, 16, 20, 24]\n",
    "time1 = [pytplot.time_float(\"2020-01-01\") + i for i in x1]\n",
    "x2=[0, 2, 4, 6, 8, 10, 12, 14, 16, 18, 20, 22, 24, 26, 28]\n",
    "time2 = [pytplot.time_float(\"2020-01-01\") + i for i in x2]\n",
    "y1=[10, 20, 30, 40, 50, 60]\n",
    "pytplot.store_data('x1', data={'x': time1, 'y': y1})\n",
    "pytplot.store_data('x2', data={'x': time2, 'y': np.zeros_like(time2)})  # y will be ignored\n",
    "\n",
    "# interpolate\n",
    "pyspedas.tinterpol('x1', 'x2')\n",
    "x1_interp = pytplot.get_data('x1_interp')\n",
    "print_data(x1, y1, x2, x1_interp.y)"
   ]
  },
  {
   "cell_type": "markdown",
   "metadata": {},
   "source": [
    "### 4.2 interpolate data with nan in the middle"
   ]
  },
  {
   "cell_type": "code",
   "execution_count": 24,
   "metadata": {},
   "outputs": [
    {
     "name": "stderr",
     "output_type": "stream",
     "text": [
      "25-Jun-24 11:21:46: tinterpol (linear) was applied to: x1_nan-itrp\n"
     ]
    },
    {
     "name": "stdout",
     "output_type": "stream",
     "text": [
      "   y_orig  y_itrp\n",
      "0             NaN\n",
      "2             NaN\n",
      "4    10.0    10.0\n",
      "6            15.0\n",
      "8    20.0    20.0\n",
      "10            NaN\n",
      "12    NaN     NaN\n",
      "14            NaN\n",
      "16    NaN     NaN\n",
      "18            NaN\n",
      "20   50.0    50.0\n",
      "22           55.0\n",
      "24   60.0    60.0\n",
      "26            NaN\n",
      "28            NaN\n"
     ]
    }
   ],
   "source": [
    "# clean old data\n",
    "%reset_selective -f \"^(?!print_data$|np$|pd$|pyspedas$|pytplot$).*\"\n",
    "\n",
    "# prepare data\n",
    "x1 = [4, 8, 12, 16, 20, 24]\n",
    "time1 = [pytplot.time_float(\"2020-01-01\") + i for i in x1]\n",
    "x2=[0, 2, 4, 6, 8, 10, 12, 14, 16, 18, 20, 22, 24, 26, 28]\n",
    "time2 = [pytplot.time_float(\"2020-01-01\") + i for i in x2]\n",
    "y2=[10, 20, np.nan, np.nan, 50, 60]\n",
    "pytplot.store_data('x1_nan', data={'x': time1, 'y': y2})\n",
    "pytplot.store_data('x2', data={'x': time2, 'y': np.zeros_like(time2)})  # y will be ignored\n",
    "\n",
    "# interpolate\n",
    "pyspedas.tinterpol('x1_nan', 'x2')\n",
    "x1_interp = pytplot.get_data('x1_nan_interp')\n",
    "print_data(x1, y2, x2, x1_interp.y)"
   ]
  },
  {
   "cell_type": "code",
   "execution_count": null,
   "metadata": {},
   "outputs": [],
   "source": []
  }
 ],
 "metadata": {
  "kernelspec": {
   "display_name": "venv",
   "language": "python",
   "name": "python3"
  },
  "language_info": {
   "codemirror_mode": {
    "name": "ipython",
    "version": 3
   },
   "file_extension": ".py",
   "mimetype": "text/x-python",
   "name": "python",
   "nbconvert_exporter": "python",
   "pygments_lexer": "ipython3",
   "version": "3.9.7"
  }
 },
 "nbformat": 4,
 "nbformat_minor": 2
}
