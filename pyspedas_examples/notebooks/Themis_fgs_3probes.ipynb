{
 "cells": [
  {
   "attachments": {},
   "cell_type": "markdown",
   "metadata": {},
   "source": [
    "This code demonstrates how to plot data from three THEMIS probes on a single plot. When plotting with Pytplot, each tplot variable cooresponds to an individual panel. To visualize data from three probes in a single panel, it's necessary to create \n",
    "a combined tplot variable that aggregates data from all three probes.\n",
    "Step: 1. 'split_vec': to split vectors into three compoents, x, y and z\n",
    "      2. 'store_data': store data from three probes together."
   ]
  },
  {
   "cell_type": "code",
   "execution_count": null,
   "metadata": {},
   "outputs": [],
   "source": [
    "%pip install ipykernel"
   ]
  },
  {
   "cell_type": "code",
   "execution_count": null,
   "metadata": {},
   "outputs": [],
   "source": [
    "from pyspedas.themis import fgm\n",
    "import pytplot"
   ]
  },
  {
   "attachments": {},
   "cell_type": "markdown",
   "metadata": {},
   "source": [
    "load THEMIS FGM data, we use fgs gsm data here"
   ]
  },
  {
   "cell_type": "code",
   "execution_count": null,
   "metadata": {},
   "outputs": [],
   "source": [
    "# Load THEMIS FGM data for THD, THE, and THA\n",
    "fgm(probe='d', trange=['2021-07-10/01:00', '2021-07-10/02:10'], time_clip=True)\n",
    "fgm(probe='e', trange=['2021-07-10/01:00', '2021-07-10/02:10'], time_clip=True)\n",
    "fgm(probe='a', trange=['2021-07-10/01:00', '2021-07-10/02:10'], time_clip=True)"
   ]
  },
  {
   "attachments": {},
   "cell_type": "markdown",
   "metadata": {},
   "source": [
    "split_vec will split a vector into three component. e.g. thd_fgs_gsm will be splited into thd_fgs_gsm_x, thd_fgs_gsm_y, thd_fgs_gsm_z"
   ]
  },
  {
   "cell_type": "code",
   "execution_count": null,
   "metadata": {},
   "outputs": [],
   "source": [
    "# Split the 3D FGM data into individual components\n",
    "pytplot.tplot_math.split_vec('thd_fgs_gsm')\n",
    "pytplot.tplot_math.split_vec('the_fgs_gsm')\n",
    "pytplot.tplot_math.split_vec('tha_fgs_gsm')"
   ]
  },
  {
   "cell_type": "code",
   "execution_count": null,
   "metadata": {},
   "outputs": [],
   "source": [
    "# Join the Bx components from the three probes into one tplot variable\n",
    "pytplot.store_data(\"combined_bx\", data=['tha_fgs_gsm_x', 'the_fgs_gsm_x', 'thd_fgs_gsm_x'])"
   ]
  },
  {
   "cell_type": "code",
   "execution_count": null,
   "metadata": {},
   "outputs": [],
   "source": [
    "# Modify the options\n",
    "pytplot.options('combined_bx', 'Color',['b','r','k'])\n",
    "pytplot.options('combined_bx', 'legend_names', ['tha','the','thd'])\n",
    "pytplot.options('combined_bx', 'ytitle', 'fgs Bx')\n",
    "pytplot.options('combined_bx', 'ysubtitle', '[nT]')"
   ]
  },
  {
   "cell_type": "code",
   "execution_count": null,
   "metadata": {},
   "outputs": [],
   "source": [
    "# Plot the tplot variable\n",
    "pytplot.tplot('combined_bx')"
   ]
  }
 ],
 "metadata": {
  "kernelspec": {
   "display_name": "venv",
   "language": "python",
   "name": "python3"
  },
  "language_info": {
   "codemirror_mode": {
    "name": "ipython",
    "version": 3
   },
   "file_extension": ".py",
   "mimetype": "text/x-python",
   "name": "python",
   "nbconvert_exporter": "python",
   "pygments_lexer": "ipython3",
   "version": "3.9.7"
  },
  "orig_nbformat": 4
 },
 "nbformat": 4,
 "nbformat_minor": 2
}
