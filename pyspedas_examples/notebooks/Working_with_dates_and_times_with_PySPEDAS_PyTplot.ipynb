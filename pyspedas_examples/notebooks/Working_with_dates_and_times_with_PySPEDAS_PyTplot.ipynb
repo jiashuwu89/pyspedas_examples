{
 "nbformat": 4,
 "nbformat_minor": 0,
 "metadata": {
  "colab": {
   "name": "Working with dates and times with PySPEDAS/PyTplot.ipynb",
   "provenance": [],
   "collapsed_sections": []
  },
  "kernelspec": {
   "name": "python3",
   "language": "python",
   "display_name": "Python 3 (ipykernel)"
  },
  "language_info": {
   "name": "python"
  }
 },
 "cells": [
  {
   "cell_type": "markdown",
   "source": [
    "# Working with dates and times with PySPEDAS/PyTplot\n",
    "\n",
    "**By Eric Grimes, UCLA - Earth, Planetary, and Space Sciences; egrimes(at)igpp.ucla.edu**\n",
    "\n",
    "This notebook includes examples of working with date/time values in PySPEDAS and PyTplot\n"
   ],
   "metadata": {
    "id": "dEaXLRwW_Q2G"
   }
  },
  {
   "cell_type": "markdown",
   "source": [
    "The following line installs pyspedas, so this notebook can be used in Google Colab.  If you're running in an environment where pyspedas is already installed, you can comment out or skip this command."
   ],
   "metadata": {
    "collapsed": false
   }
  },
  {
   "cell_type": "code",
   "metadata": {
    "id": "5wOBeJHn94DP",
    "ExecuteTime": {
     "end_time": "2024-05-07T04:19:35.104036Z",
     "start_time": "2024-05-07T04:19:33.724373Z"
    }
   },
   "source": [
    "!pip install pyspedas"
   ],
   "outputs": [
    {
     "name": "stdout",
     "output_type": "stream",
     "text": [
      "Requirement already satisfied: pyspedas in /Users/jwl/PycharmProjects/pyspedas_examples/venv/lib/python3.9/site-packages (1.5.11)\r\n",
      "Requirement already satisfied: viresclient in /Users/jwl/PycharmProjects/pyspedas_examples/venv/lib/python3.9/site-packages (from pyspedas) (0.11.3)\r\n",
      "Requirement already satisfied: cdasws>=1.7.24 in /Users/jwl/PycharmProjects/pyspedas_examples/venv/lib/python3.9/site-packages (from pyspedas) (1.7.43)\r\n",
      "Requirement already satisfied: pywavelets in /Users/jwl/PycharmProjects/pyspedas_examples/venv/lib/python3.9/site-packages (from pyspedas) (1.4.1)\r\n",
      "Requirement already satisfied: scipy in /Users/jwl/PycharmProjects/pyspedas_examples/venv/lib/python3.9/site-packages (from pyspedas) (1.11.3)\r\n",
      "Requirement already satisfied: cdflib in /Users/jwl/PycharmProjects/pyspedas_examples/venv/lib/python3.9/site-packages (from pyspedas) (1.2.6)\r\n",
      "Requirement already satisfied: astropy in /Users/jwl/PycharmProjects/pyspedas_examples/venv/lib/python3.9/site-packages (from pyspedas) (5.3.4)\r\n",
      "Requirement already satisfied: geopack>=1.0.10 in /Users/jwl/PycharmProjects/pyspedas_examples/venv/lib/python3.9/site-packages (from pyspedas) (1.0.10)\r\n",
      "Requirement already satisfied: hapiclient>=0.2.2 in /Users/jwl/PycharmProjects/pyspedas_examples/venv/lib/python3.9/site-packages (from pyspedas) (0.2.5)\r\n",
      "Requirement already satisfied: requests in /Users/jwl/PycharmProjects/pyspedas_examples/venv/lib/python3.9/site-packages (from pyspedas) (2.31.0)\r\n",
      "Requirement already satisfied: netCDF4>=1.6.2 in /Users/jwl/PycharmProjects/pyspedas_examples/venv/lib/python3.9/site-packages (from pyspedas) (1.6.4)\r\n",
      "Requirement already satisfied: pytplot-mpl-temp>=2.2.20 in /Users/jwl/PycharmProjects/pyspedas_examples/venv/lib/python3.9/site-packages (from pyspedas) (2.2.20)\r\n",
      "Requirement already satisfied: numpy>=1.19.5 in /Users/jwl/PycharmProjects/pyspedas_examples/venv/lib/python3.9/site-packages (from pyspedas) (1.26.0)\r\n",
      "Requirement already satisfied: python-dateutil>=2.8.0 in /Users/jwl/PycharmProjects/pyspedas_examples/venv/lib/python3.9/site-packages (from cdasws>=1.7.24->pyspedas) (2.8.2)\r\n",
      "Requirement already satisfied: pandas>=0.23 in /Users/jwl/PycharmProjects/pyspedas_examples/venv/lib/python3.9/site-packages (from hapiclient>=0.2.2->pyspedas) (2.1.1)\r\n",
      "Requirement already satisfied: isodate>=0.6.0 in /Users/jwl/PycharmProjects/pyspedas_examples/venv/lib/python3.9/site-packages (from hapiclient>=0.2.2->pyspedas) (0.6.1)\r\n",
      "Requirement already satisfied: joblib in /Users/jwl/PycharmProjects/pyspedas_examples/venv/lib/python3.9/site-packages (from hapiclient>=0.2.2->pyspedas) (1.3.2)\r\n",
      "Requirement already satisfied: urllib3 in /Users/jwl/PycharmProjects/pyspedas_examples/venv/lib/python3.9/site-packages (from hapiclient>=0.2.2->pyspedas) (2.0.6)\r\n",
      "Requirement already satisfied: cftime in /Users/jwl/PycharmProjects/pyspedas_examples/venv/lib/python3.9/site-packages (from netCDF4>=1.6.2->pyspedas) (1.6.2)\r\n",
      "Requirement already satisfied: certifi in /Users/jwl/PycharmProjects/pyspedas_examples/venv/lib/python3.9/site-packages (from netCDF4>=1.6.2->pyspedas) (2023.7.22)\r\n",
      "Requirement already satisfied: matplotlib>=3.4 in /Users/jwl/PycharmProjects/pyspedas_examples/venv/lib/python3.9/site-packages (from pytplot-mpl-temp>=2.2.20->pyspedas) (3.8.0)\r\n",
      "Requirement already satisfied: xarray in /Users/jwl/PycharmProjects/pyspedas_examples/venv/lib/python3.9/site-packages (from pytplot-mpl-temp>=2.2.20->pyspedas) (2023.9.0)\r\n",
      "Requirement already satisfied: idna<4,>=2.5 in /Users/jwl/PycharmProjects/pyspedas_examples/venv/lib/python3.9/site-packages (from requests->pyspedas) (3.4)\r\n",
      "Requirement already satisfied: charset-normalizer<4,>=2 in /Users/jwl/PycharmProjects/pyspedas_examples/venv/lib/python3.9/site-packages (from requests->pyspedas) (3.3.0)\r\n",
      "Requirement already satisfied: packaging>=19.0 in /Users/jwl/PycharmProjects/pyspedas_examples/venv/lib/python3.9/site-packages (from astropy->pyspedas) (23.2)\r\n",
      "Requirement already satisfied: pyerfa>=2.0 in /Users/jwl/PycharmProjects/pyspedas_examples/venv/lib/python3.9/site-packages (from astropy->pyspedas) (2.0.0.3)\r\n",
      "Requirement already satisfied: PyYAML>=3.13 in /Users/jwl/PycharmProjects/pyspedas_examples/venv/lib/python3.9/site-packages (from astropy->pyspedas) (6.0.1)\r\n",
      "Requirement already satisfied: tables>=3.4.4 in /Users/jwl/PycharmProjects/pyspedas_examples/venv/lib/python3.9/site-packages (from viresclient->pyspedas) (3.7.0)\r\n",
      "Requirement already satisfied: tqdm>=4.23.0 in /Users/jwl/PycharmProjects/pyspedas_examples/venv/lib/python3.9/site-packages (from viresclient->pyspedas) (4.66.1)\r\n",
      "Requirement already satisfied: Jinja2>=2.10 in /Users/jwl/PycharmProjects/pyspedas_examples/venv/lib/python3.9/site-packages (from viresclient->pyspedas) (3.1.2)\r\n",
      "Requirement already satisfied: six in /Users/jwl/PycharmProjects/pyspedas_examples/venv/lib/python3.9/site-packages (from isodate>=0.6.0->hapiclient>=0.2.2->pyspedas) (1.16.0)\r\n",
      "Requirement already satisfied: MarkupSafe>=2.0 in /Users/jwl/PycharmProjects/pyspedas_examples/venv/lib/python3.9/site-packages (from Jinja2>=2.10->viresclient->pyspedas) (2.1.3)\r\n",
      "Requirement already satisfied: kiwisolver>=1.0.1 in /Users/jwl/PycharmProjects/pyspedas_examples/venv/lib/python3.9/site-packages (from matplotlib>=3.4->pytplot-mpl-temp>=2.2.20->pyspedas) (1.4.5)\r\n",
      "Requirement already satisfied: fonttools>=4.22.0 in /Users/jwl/PycharmProjects/pyspedas_examples/venv/lib/python3.9/site-packages (from matplotlib>=3.4->pytplot-mpl-temp>=2.2.20->pyspedas) (4.43.0)\r\n",
      "Requirement already satisfied: contourpy>=1.0.1 in /Users/jwl/PycharmProjects/pyspedas_examples/venv/lib/python3.9/site-packages (from matplotlib>=3.4->pytplot-mpl-temp>=2.2.20->pyspedas) (1.1.1)\r\n",
      "Requirement already satisfied: cycler>=0.10 in /Users/jwl/PycharmProjects/pyspedas_examples/venv/lib/python3.9/site-packages (from matplotlib>=3.4->pytplot-mpl-temp>=2.2.20->pyspedas) (0.12.0)\r\n",
      "Requirement already satisfied: importlib-resources>=3.2.0 in /Users/jwl/PycharmProjects/pyspedas_examples/venv/lib/python3.9/site-packages (from matplotlib>=3.4->pytplot-mpl-temp>=2.2.20->pyspedas) (6.1.0)\r\n",
      "Requirement already satisfied: pillow>=6.2.0 in /Users/jwl/PycharmProjects/pyspedas_examples/venv/lib/python3.9/site-packages (from matplotlib>=3.4->pytplot-mpl-temp>=2.2.20->pyspedas) (10.0.1)\r\n",
      "Requirement already satisfied: pyparsing>=2.3.1 in /Users/jwl/PycharmProjects/pyspedas_examples/venv/lib/python3.9/site-packages (from matplotlib>=3.4->pytplot-mpl-temp>=2.2.20->pyspedas) (3.1.1)\r\n",
      "Requirement already satisfied: pytz>=2020.1 in /Users/jwl/PycharmProjects/pyspedas_examples/venv/lib/python3.9/site-packages (from pandas>=0.23->hapiclient>=0.2.2->pyspedas) (2023.3.post1)\r\n",
      "Requirement already satisfied: tzdata>=2022.1 in /Users/jwl/PycharmProjects/pyspedas_examples/venv/lib/python3.9/site-packages (from pandas>=0.23->hapiclient>=0.2.2->pyspedas) (2023.3)\r\n",
      "Requirement already satisfied: numexpr>=2.6.2 in /Users/jwl/PycharmProjects/pyspedas_examples/venv/lib/python3.9/site-packages (from tables>=3.4.4->viresclient->pyspedas) (2.8.7)\r\n",
      "Requirement already satisfied: zipp>=3.1.0 in /Users/jwl/PycharmProjects/pyspedas_examples/venv/lib/python3.9/site-packages (from importlib-resources>=3.2.0->matplotlib>=3.4->pytplot-mpl-temp>=2.2.20->pyspedas) (3.17.0)\r\n",
      "\r\n",
      "\u001B[1m[\u001B[0m\u001B[34;49mnotice\u001B[0m\u001B[1;39;49m]\u001B[0m\u001B[39;49m A new release of pip available: \u001B[0m\u001B[31;49m22.3.1\u001B[0m\u001B[39;49m -> \u001B[0m\u001B[32;49m24.0\u001B[0m\r\n",
      "\u001B[1m[\u001B[0m\u001B[34;49mnotice\u001B[0m\u001B[1;39;49m]\u001B[0m\u001B[39;49m To update, run: \u001B[0m\u001B[32;49mpip install --upgrade pip\u001B[0m\r\n"
     ]
    }
   ],
   "execution_count": 1
  },
  {
   "cell_type": "markdown",
   "source": [
    "Time values in PyTplot variables are stored internally as datetime64 objects.\n",
    "However, the PyTplot time conversion routines assume that numerical timestamps\n",
    "are represented as Unix times, in units of seconds.  (The conversions to and from\n",
    "the internal datetime64 representation are performed automatically in the store_data and\n",
    "get_data routines.)\n",
    "\n",
    "https://en.wikipedia.org/wiki/Unix_time\n",
    "\n",
    "We have routines for working with times, including:\n",
    "\n",
    "`time_double`: convert a string to a unix time"
   ],
   "metadata": {
    "id": "SSMjbntj-E-k"
   }
  },
  {
   "cell_type": "code",
   "source": [
    "from pyspedas import time_double"
   ],
   "metadata": {
    "id": "xr0eQ82h9-PC",
    "ExecuteTime": {
     "end_time": "2024-05-07T04:19:36.300109Z",
     "start_time": "2024-05-07T04:19:35.106063Z"
    }
   },
   "outputs": [],
   "execution_count": 2
  },
  {
   "cell_type": "code",
   "source": [
    "time_double('2015-10-16/13:06')"
   ],
   "metadata": {
    "colab": {
     "base_uri": "https://localhost:8080/"
    },
    "id": "FemELSXC-WM4",
    "outputId": "2faeb565-2fc1-4d63-9313-58d4196a7567",
    "ExecuteTime": {
     "end_time": "2024-05-07T04:19:36.303983Z",
     "start_time": "2024-05-07T04:19:36.300809Z"
    }
   },
   "outputs": [
    {
     "data": {
      "text/plain": [
       "1445000760.0"
      ]
     },
     "execution_count": 3,
     "metadata": {},
     "output_type": "execute_result"
    }
   ],
   "execution_count": 3
  },
  {
   "cell_type": "markdown",
   "source": [
    "This also accepts a list of time values"
   ],
   "metadata": {
    "id": "JsbBVTja-jHg"
   }
  },
  {
   "cell_type": "code",
   "source": [
    "time_double(['2015-10-16/13:06', '2015-10-16/13:07:01'])"
   ],
   "metadata": {
    "colab": {
     "base_uri": "https://localhost:8080/"
    },
    "id": "K6jBUphN-gOI",
    "outputId": "a8e36cf6-b4d3-4997-b2bf-f6b0d1adca25",
    "ExecuteTime": {
     "end_time": "2024-05-07T04:19:36.306971Z",
     "start_time": "2024-05-07T04:19:36.304657Z"
    }
   },
   "outputs": [
    {
     "data": {
      "text/plain": [
       "[1445000760.0, 1445000821.0]"
      ]
     },
     "execution_count": 4,
     "metadata": {},
     "output_type": "execute_result"
    }
   ],
   "execution_count": 4
  },
  {
   "cell_type": "markdown",
   "source": [
    "The input format for the string is extremely flexible, e.g., "
   ],
   "metadata": {
    "id": "_LvmMQ5e-wFS"
   }
  },
  {
   "cell_type": "code",
   "source": [
    "time_double('Oct 16, 2015 at 13:06')"
   ],
   "metadata": {
    "colab": {
     "base_uri": "https://localhost:8080/"
    },
    "id": "JT_Y--tj-oac",
    "outputId": "3d9a1b2d-8a81-4443-88a5-a50a676ea26a",
    "ExecuteTime": {
     "end_time": "2024-05-07T04:19:36.310519Z",
     "start_time": "2024-05-07T04:19:36.308347Z"
    }
   },
   "outputs": [
    {
     "data": {
      "text/plain": [
       "1445000760.0"
      ]
     },
     "execution_count": 5,
     "metadata": {},
     "output_type": "execute_result"
    }
   ],
   "execution_count": 5
  },
  {
   "cell_type": "markdown",
   "source": [
    "To convert a unix time back to a string, use `time_string`"
   ],
   "metadata": {
    "id": "oYK_nmLc-77K"
   }
  },
  {
   "cell_type": "code",
   "source": [
    "from pyspedas import time_string"
   ],
   "metadata": {
    "id": "pBQtgO9--stB",
    "ExecuteTime": {
     "end_time": "2024-05-07T04:19:36.312788Z",
     "start_time": "2024-05-07T04:19:36.311177Z"
    }
   },
   "outputs": [],
   "execution_count": 6
  },
  {
   "cell_type": "code",
   "source": [
    "time_string(1445000760.0)"
   ],
   "metadata": {
    "colab": {
     "base_uri": "https://localhost:8080/",
     "height": 35
    },
    "id": "t_R9Pb--_CWb",
    "outputId": "95961c08-5e74-4ab5-a861-b2971838b6d7",
    "ExecuteTime": {
     "end_time": "2024-05-07T04:19:36.315145Z",
     "start_time": "2024-05-07T04:19:36.313342Z"
    }
   },
   "outputs": [
    {
     "data": {
      "text/plain": [
       "'2015-10-16 13:06:00.000000'"
      ]
     },
     "execution_count": 7,
     "metadata": {},
     "output_type": "execute_result"
    }
   ],
   "execution_count": 7
  },
  {
   "cell_type": "markdown",
   "source": [
    "This also accepts lists of times, e.g., "
   ],
   "metadata": {
    "id": "nQLRfx4B_FWb"
   }
  },
  {
   "cell_type": "code",
   "source": [
    "time_string([1445000760.0, 1445000821.0])"
   ],
   "metadata": {
    "colab": {
     "base_uri": "https://localhost:8080/"
    },
    "id": "oMUd79-s_EZz",
    "outputId": "1f390afb-07fd-46ca-af1e-b9b2b75b8897",
    "ExecuteTime": {
     "end_time": "2024-05-07T04:19:36.317600Z",
     "start_time": "2024-05-07T04:19:36.315732Z"
    }
   },
   "outputs": [
    {
     "data": {
      "text/plain": [
       "['2015-10-16 13:06:00.000000', '2015-10-16 13:07:01.000000']"
      ]
     },
     "execution_count": 8,
     "metadata": {},
     "output_type": "execute_result"
    }
   ],
   "execution_count": 8
  },
  {
   "cell_type": "markdown",
   "source": [
    "To change the format of the output string, use the `fmt` option, e.g., "
   ],
   "metadata": {
    "id": "DcBksXex_8lO"
   }
  },
  {
   "cell_type": "code",
   "source": [
    "time_string([1445000760.0, 1445000821.0], fmt='%Y-%m-%d/%H:%M:%S')"
   ],
   "metadata": {
    "colab": {
     "base_uri": "https://localhost:8080/"
    },
    "id": "GN52njLR_LVn",
    "outputId": "bb0d19b3-ac87-438f-fa93-3a57ebdf6390",
    "ExecuteTime": {
     "end_time": "2024-05-07T04:19:36.320031Z",
     "start_time": "2024-05-07T04:19:36.318210Z"
    }
   },
   "outputs": [
    {
     "data": {
      "text/plain": [
       "['2015-10-16/13:06:00', '2015-10-16/13:07:01']"
      ]
     },
     "execution_count": 9,
     "metadata": {},
     "output_type": "execute_result"
    }
   ],
   "execution_count": 9
  },
  {
   "cell_type": "markdown",
   "source": [
    "Please see the strftime cheatsheet at https://strftime.org for possible formats.\n",
    "(Supported formats may vary depending on the platform being used.)"
   ],
   "metadata": {
    "id": "x4figStTAU3H"
   }
  },
  {
   "cell_type": "code",
   "source": [
    "time_string([1445000760.0, 1445000821.0], fmt='%B %d, %Y at %H:%M')"
   ],
   "metadata": {
    "colab": {
     "base_uri": "https://localhost:8080/"
    },
    "id": "SuHD1KMhAGf3",
    "outputId": "c1165a11-faf0-457b-de35-a13c49fd0986",
    "ExecuteTime": {
     "end_time": "2024-05-07T04:19:36.322779Z",
     "start_time": "2024-05-07T04:19:36.320748Z"
    }
   },
   "outputs": [
    {
     "data": {
      "text/plain": [
       "['October 16, 2015 at 13:06', 'October 16, 2015 at 13:07']"
      ]
     },
     "execution_count": 10,
     "metadata": {},
     "output_type": "execute_result"
    }
   ],
   "execution_count": 10
  },
  {
   "cell_type": "markdown",
   "source": [
    "Finally, to convert to datetime objects, use `time_datetime`"
   ],
   "metadata": {
    "id": "UTWErnvtAwoJ"
   }
  },
  {
   "cell_type": "code",
   "source": [
    "from pyspedas import time_datetime"
   ],
   "metadata": {
    "id": "ZrR4deidArUJ",
    "ExecuteTime": {
     "end_time": "2024-05-07T04:19:36.324921Z",
     "start_time": "2024-05-07T04:19:36.323299Z"
    }
   },
   "outputs": [],
   "execution_count": 11
  },
  {
   "cell_type": "code",
   "source": [
    "time_datetime(1445000760.0)"
   ],
   "metadata": {
    "colab": {
     "base_uri": "https://localhost:8080/"
    },
    "id": "sPlVtxdLA_Za",
    "outputId": "07a17467-a27b-45c5-c1a7-a586ff7ec340",
    "ExecuteTime": {
     "end_time": "2024-05-07T04:19:36.327407Z",
     "start_time": "2024-05-07T04:19:36.325507Z"
    }
   },
   "outputs": [
    {
     "data": {
      "text/plain": [
       "datetime.datetime(2015, 10, 16, 13, 6, tzinfo=datetime.timezone.utc)"
      ]
     },
     "execution_count": 12,
     "metadata": {},
     "output_type": "execute_result"
    }
   ],
   "execution_count": 12
  },
  {
   "cell_type": "markdown",
   "source": [
    "Note that this routine also accepts strings"
   ],
   "metadata": {
    "id": "8-XotHv8BCza"
   }
  },
  {
   "cell_type": "code",
   "source": [
    "time_datetime('October 16, 2015 at 13:06')"
   ],
   "metadata": {
    "colab": {
     "base_uri": "https://localhost:8080/"
    },
    "id": "Nh_NUQQRBB2r",
    "outputId": "c3248e2b-6606-456b-e2db-2d021270a1c5",
    "ExecuteTime": {
     "end_time": "2024-05-07T04:19:36.330168Z",
     "start_time": "2024-05-07T04:19:36.328115Z"
    }
   },
   "outputs": [
    {
     "data": {
      "text/plain": [
       "datetime.datetime(2015, 10, 16, 13, 6, tzinfo=datetime.timezone.utc)"
      ]
     },
     "execution_count": 13,
     "metadata": {},
     "output_type": "execute_result"
    }
   ],
   "execution_count": 13
  },
  {
   "cell_type": "markdown",
   "source": [
    "as well as lists:"
   ],
   "metadata": {
    "id": "ecVeQzTfBQ4s"
   }
  },
  {
   "cell_type": "code",
   "source": [
    "time_datetime(['October 16, 2015 at 13:06', 'October 16, 2015 at 13:07'])"
   ],
   "metadata": {
    "colab": {
     "base_uri": "https://localhost:8080/"
    },
    "id": "fOQQZzefBIXk",
    "outputId": "8b5299b7-2eaf-4985-daff-e175ae2dce9f",
    "ExecuteTime": {
     "end_time": "2024-05-07T04:19:36.334346Z",
     "start_time": "2024-05-07T04:19:36.332239Z"
    }
   },
   "outputs": [
    {
     "data": {
      "text/plain": [
       "[datetime.datetime(2015, 10, 16, 13, 6, tzinfo=datetime.timezone.utc),\n",
       " datetime.datetime(2015, 10, 16, 13, 7, tzinfo=datetime.timezone.utc)]"
      ]
     },
     "execution_count": 14,
     "metadata": {},
     "output_type": "execute_result"
    }
   ],
   "execution_count": 14
  }
 ]
}
