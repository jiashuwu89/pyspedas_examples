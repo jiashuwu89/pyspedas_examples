{
 "cells": [
  {
   "cell_type": "markdown",
   "metadata": {},
   "source": [
    "## BARREL Create Background Model\n",
    "\n",
    "\n",
    "### Setup\n",
    "Start by importing libraries and loading data from a potentially interesting event.\n",
    "\n",
    "In this guide, we are going to use interactive plots, so `%matplotlib ipympl` should be set."
   ]
  },
  {
   "cell_type": "code",
   "execution_count": null,
   "metadata": {},
   "outputs": [],
   "source": [
    "%matplotlib ipympl\n",
    "import pyspedas, pytplot, pprint, numpy\n"
   ]
  },
  {
   "cell_type": "markdown",
   "metadata": {},
   "source": [
    "For our example, we will look at data form flight 1G from January 17th - 19th, 2013.\n",
    "\n",
    "FSPC and SSPC data can be downloaded with the `pyspedas.barrel` helper functions:"
   ]
  },
  {
   "cell_type": "code",
   "execution_count": null,
   "metadata": {},
   "outputs": [],
   "source": [
    "trange=['2013-01-17', '2013-01-19']\n",
    "\n",
    "pyspedas.barrel.fspc(\n",
    "    trange=trange,\n",
    "    probe='1g'\n",
    ")\n",
    "\n",
    "pyspedas.barrel.sspc(\n",
    "    trange=trange,\n",
    "    probe='1g'\n",
    ")"
   ]
  },
  {
   "cell_type": "markdown",
   "metadata": {},
   "source": [
    "### Background subtraction\n",
    "Plot FSPC1 for the loaded data and visually determine the start and stop locations for the background selection."
   ]
  },
  {
   "cell_type": "code",
   "execution_count": null,
   "metadata": {},
   "outputs": [],
   "source": [
    "pytplot.tplot('brl1G_SSPC')\n",
    "pytplot.tplot('brl1G_FSPC1')"
   ]
  },
  {
   "attachments": {},
   "cell_type": "markdown",
   "metadata": {},
   "source": [
    "By moving the mouse cursor over a quiet area of the plot, we can estimate values for the start and stop times.\n",
    "In this way we can find one or more periods of time to use for background calculation.\n",
    "\n",
    "These start and stop times can be stored in a list of tuples:"
   ]
  },
  {
   "cell_type": "code",
   "execution_count": null,
   "metadata": {},
   "outputs": [],
   "source": [
    "background_periods=[(\"2013-01-17/17:25\", \"2013-01-17/20:35\"), (\"2013-01-18/09:35\", \"2013-01-18/12:04\")]"
   ]
  },
  {
   "cell_type": "markdown",
   "metadata": {},
   "source": [
    "Similarly, we can use the plot to estimate the time period of the event that we are interested in:"
   ]
  },
  {
   "cell_type": "code",
   "execution_count": null,
   "metadata": {},
   "outputs": [],
   "source": [
    "event_period=(\"2013-01-17/01:54\", \"2013-01-17/03:24\")"
   ]
  },
  {
   "cell_type": "code",
   "execution_count": null,
   "metadata": {},
   "outputs": [],
   "source": [
    "ts, cnts, energy_levels = pytplot.get_data('brl1G_SSPC')\n",
    "spec = pyspedas.barrel.average_event_spectrum(ts, cnts, energy_levels, background_periods, event_period)\n",
    "pytplot.store_data(\"brl1G_Event_Spec\", data={'y':energy_levels, 'x':spec})\n",
    "#pytplot.options(\"brl1G_Event_Spec\", \"xlog_slice\", True)\n",
    "pytplot.options(\"brl1G_Event_Spec\", \"ylog\", True)\n",
    "pytplot.tplot(\"brl1G_Event_Spec\")"
   ]
  },
  {
   "cell_type": "markdown",
   "metadata": {},
   "source": [
    "Next, we will extract the SSPC data during that time range so we can calcuate the background."
   ]
  },
  {
   "cell_type": "code",
   "execution_count": null,
   "metadata": {},
   "outputs": [],
   "source": [
    "#use pytplot to extract the sspc data\n",
    "ts, cnts, energy_levels = pytplot.get_data('brl1G_SSPC')\n",
    "\n",
    "#use the background subtraction function\n",
    "bkg_sub_cnts = pyspedas.barrel.bg_sub(ts, cnts, background_periods)\n",
    "#pytplot.store_data('brl1G_SSPC_BGSUB', data={'x':ts, 'y': bkg_sub_cnts})\n",
    "\n",
    "#Remove any previous version of this variable, then make a copy of the unsubtracted variable and replace its data with that of the subrated spectrum\n",
    "pytplot.del_data('brl1G_SSPC_BGSUB')\n",
    "pytplot.tplot_copy('brl1G_SSPC', 'brl1G_SSPC_BGSUB')\n",
    "print(pytplot.data_quants['brl1G_SSPC_BGSUB'].values.shape)\n",
    "print(pytplot.data_quants['brl1G_SSPC'].values.shape)\n",
    "\n",
    "#pytplot.tplot('brl1G_SSPC_BGSUB')\n",
    "#import pprint\n",
    "#pprint.pprint(pytplot.data_quants['brl1G_SSPC_BGSUB'])\n",
    "#pytplot.tplot('brl1G_SSPC_BGSUB')\n"
   ]
  },
  {
   "cell_type": "code",
   "execution_count": null,
   "metadata": {},
   "outputs": [],
   "source": [
    "from copy import deepcopy\n",
    "import pprint\n",
    "import json\n",
    "old_name = 'brl1G_SSPC'\n",
    "new_name = 'brl1G_SSPC_BGSUB_1'\n",
    "attr_dict = deepcopy(pytplot.data_quants[old_name].attrs)\n",
    "#pprint.pprint(attr_dict)\n",
    "data_dict = {}\n",
    "data_dict['x'] = pytplot.data_quants[old_name].coords['time'].values\n",
    "\n",
    "data_dict['y'] = pytplot.data_quants[old_name].values\n",
    "if len(data_dict['y'].shape) <= 1:\n",
    "    print(\"balls\")\n",
    "    pass\n",
    "else:\n",
    "    for c in pytplot.data_quants[old_name].coords:\n",
    "        if c == 'time':\n",
    "            continue\n",
    "        data_dict[c] = pytplot.data_quants[old_name].coords[c].values\n",
    "print(json.dump(data_dict))\n",
    "#pytplot.store_data(new_name, data=data_dict)\n",
    "#pytplot.data_quants[new_name].attrs = attr_dict\n",
    "#pytplot.tplot(new_name)"
   ]
  },
  {
   "cell_type": "markdown",
   "metadata": {},
   "source": [
    "Finally, we can create a new tplot variable containing out background-subtracted spectra and plot it."
   ]
  },
  {
   "cell_type": "code",
   "execution_count": null,
   "metadata": {},
   "outputs": [],
   "source": [
    "pytplot.store_data(\"brl1G_SSPC_SUB_BKG1\", data={'x':ts, 'y': bkg_sub_cnts, 'v': energy_levels})\n",
    "print(pytplot.tplot_names())\n",
    "pytplot.tplot(\"brl1G_SSPC_SUB_BKG1\")"
   ]
  },
  {
   "cell_type": "code",
   "execution_count": null,
   "metadata": {},
   "outputs": [],
   "source": [
    "import pprint\n",
    "#pprint.pprint(pytplot.data_quants['brl1G_SSPC'])\n",
    "pytplot.del_data('brl1G_SSPC_BGSUB')\n",
    "pytplot.tplot_copy('brl1G_SSPC', 'brl1G_SSPC_BGSUB')\n",
    "pytplot.tplot('brl1G_SSPC_BGSUB')"
   ]
  }
 ],
 "metadata": {
  "kernelspec": {
   "display_name": ".venv",
   "language": "python",
   "name": "python3"
  },
  "language_info": {
   "codemirror_mode": {
    "name": "ipython",
    "version": 3
   },
   "file_extension": ".py",
   "mimetype": "text/x-python",
   "name": "python",
   "nbconvert_exporter": "python",
   "pygments_lexer": "ipython3",
   "version": "3.11.3"
  },
  "orig_nbformat": 4
 },
 "nbformat": 4,
 "nbformat_minor": 2
}
